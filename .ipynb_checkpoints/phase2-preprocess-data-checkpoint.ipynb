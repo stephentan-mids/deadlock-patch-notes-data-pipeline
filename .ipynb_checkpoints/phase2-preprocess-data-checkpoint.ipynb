{
 "cells": [
  {
   "cell_type": "markdown",
   "id": "44262cb6-2b1c-4e71-9984-58ad0be98782",
   "metadata": {},
   "source": [
    "Load in the data from S3 to confirm that the data is accessible. Write some code to further preprocess the data and reupload back into S3.\n",
    "\n",
    "The next step will be to use AWS Lambda to trigger a preprocessing script upon a new json file upload."
   ]
  },
  {
   "cell_type": "code",
   "execution_count": null,
   "id": "83dad6fe-92ee-459d-8aa5-144911046275",
   "metadata": {},
   "outputs": [],
   "source": [
    "import boto3\n",
    "import pandas as pd\n",
    "import json\n",
    "from io import StringIO\n",
    "\n",
    "# create AWS session\n",
    "s3 = boto3.client('s3')\n",
    "\n",
    "# define the bucket and the key (file path)\n",
    "bucket_name = 'your-bucket-name'\n",
    "key = 'path/to/your/file.json'\n",
    "\n",
    "# download the file\n",
    "obj = s3.get_object(Bucket=bucket_name, Key=key)\n",
    "data = obj['Body'].read().decode('utf-8')\n",
    "\n",
    "# Load the JSON data into a Pandas DataFrame\n",
    "json_data = json.loads(data)\n",
    "df = pd.json_normalize(json_data)\n",
    "\n",
    "print(df.head())\n"
   ]
  }
 ],
 "metadata": {
  "kernelspec": {
   "display_name": "Python 3 (ipykernel)",
   "language": "python",
   "name": "python3"
  },
  "language_info": {
   "codemirror_mode": {
    "name": "ipython",
    "version": 3
   },
   "file_extension": ".py",
   "mimetype": "text/x-python",
   "name": "python",
   "nbconvert_exporter": "python",
   "pygments_lexer": "ipython3",
   "version": "3.12.5"
  }
 },
 "nbformat": 4,
 "nbformat_minor": 5
}
